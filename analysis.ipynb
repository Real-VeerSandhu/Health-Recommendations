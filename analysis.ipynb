{
 "metadata": {
  "language_info": {
   "codemirror_mode": {
    "name": "ipython",
    "version": 3
   },
   "file_extension": ".py",
   "mimetype": "text/x-python",
   "name": "python",
   "nbconvert_exporter": "python",
   "pygments_lexer": "ipython3",
   "version": "3.8.3"
  },
  "orig_nbformat": 2,
  "kernelspec": {
   "name": "python383jvsc74a57bd0b3ba2566441a7c06988d0923437866b63cedc61552a5af99d1f4fb67d367b25f",
   "display_name": "Python 3.8.3 64-bit ('base': conda)"
  }
 },
 "nbformat": 4,
 "nbformat_minor": 2,
 "cells": [
  {
   "cell_type": "code",
   "execution_count": 1,
   "metadata": {},
   "outputs": [],
   "source": [
    "import pandas as pd \n",
    "import matplotlib.pyplot as plt \n",
    "import seaborn as sns "
   ]
  },
  {
   "cell_type": "code",
   "execution_count": 6,
   "metadata": {},
   "outputs": [],
   "source": [
    "heart_disease_data = pd.read_csv('D:/ML_Data/Heart_Disease/heart.csv')\n",
    "bmi_data = pd.read_csv('D:/ML_Data/BMI/500_Person_Gender_Height_Weight_Index.csv')\n",
    "microbiome_project = pd.read_csv('D:/ML_Data/human_microbiome_project/project_catalog.csv')"
   ]
  },
  {
   "cell_type": "code",
   "execution_count": 3,
   "metadata": {},
   "outputs": [
    {
     "output_type": "execute_result",
     "data": {
      "text/plain": [
       "     age  sex  cp  trestbps  chol  fbs  restecg  thalach  exang  oldpeak  \\\n",
       "0     63    1   3       145   233    1        0      150      0      2.3   \n",
       "1     37    1   2       130   250    0        1      187      0      3.5   \n",
       "2     41    0   1       130   204    0        0      172      0      1.4   \n",
       "3     56    1   1       120   236    0        1      178      0      0.8   \n",
       "4     57    0   0       120   354    0        1      163      1      0.6   \n",
       "..   ...  ...  ..       ...   ...  ...      ...      ...    ...      ...   \n",
       "298   57    0   0       140   241    0        1      123      1      0.2   \n",
       "299   45    1   3       110   264    0        1      132      0      1.2   \n",
       "300   68    1   0       144   193    1        1      141      0      3.4   \n",
       "301   57    1   0       130   131    0        1      115      1      1.2   \n",
       "302   57    0   1       130   236    0        0      174      0      0.0   \n",
       "\n",
       "     slope  ca  thal  target  \n",
       "0        0   0     1       1  \n",
       "1        0   0     2       1  \n",
       "2        2   0     2       1  \n",
       "3        2   0     2       1  \n",
       "4        2   0     2       1  \n",
       "..     ...  ..   ...     ...  \n",
       "298      1   0     3       0  \n",
       "299      1   0     3       0  \n",
       "300      1   2     3       0  \n",
       "301      1   1     3       0  \n",
       "302      1   1     2       0  \n",
       "\n",
       "[303 rows x 14 columns]"
      ],
      "text/html": "<div>\n<style scoped>\n    .dataframe tbody tr th:only-of-type {\n        vertical-align: middle;\n    }\n\n    .dataframe tbody tr th {\n        vertical-align: top;\n    }\n\n    .dataframe thead th {\n        text-align: right;\n    }\n</style>\n<table border=\"1\" class=\"dataframe\">\n  <thead>\n    <tr style=\"text-align: right;\">\n      <th></th>\n      <th>age</th>\n      <th>sex</th>\n      <th>cp</th>\n      <th>trestbps</th>\n      <th>chol</th>\n      <th>fbs</th>\n      <th>restecg</th>\n      <th>thalach</th>\n      <th>exang</th>\n      <th>oldpeak</th>\n      <th>slope</th>\n      <th>ca</th>\n      <th>thal</th>\n      <th>target</th>\n    </tr>\n  </thead>\n  <tbody>\n    <tr>\n      <th>0</th>\n      <td>63</td>\n      <td>1</td>\n      <td>3</td>\n      <td>145</td>\n      <td>233</td>\n      <td>1</td>\n      <td>0</td>\n      <td>150</td>\n      <td>0</td>\n      <td>2.3</td>\n      <td>0</td>\n      <td>0</td>\n      <td>1</td>\n      <td>1</td>\n    </tr>\n    <tr>\n      <th>1</th>\n      <td>37</td>\n      <td>1</td>\n      <td>2</td>\n      <td>130</td>\n      <td>250</td>\n      <td>0</td>\n      <td>1</td>\n      <td>187</td>\n      <td>0</td>\n      <td>3.5</td>\n      <td>0</td>\n      <td>0</td>\n      <td>2</td>\n      <td>1</td>\n    </tr>\n    <tr>\n      <th>2</th>\n      <td>41</td>\n      <td>0</td>\n      <td>1</td>\n      <td>130</td>\n      <td>204</td>\n      <td>0</td>\n      <td>0</td>\n      <td>172</td>\n      <td>0</td>\n      <td>1.4</td>\n      <td>2</td>\n      <td>0</td>\n      <td>2</td>\n      <td>1</td>\n    </tr>\n    <tr>\n      <th>3</th>\n      <td>56</td>\n      <td>1</td>\n      <td>1</td>\n      <td>120</td>\n      <td>236</td>\n      <td>0</td>\n      <td>1</td>\n      <td>178</td>\n      <td>0</td>\n      <td>0.8</td>\n      <td>2</td>\n      <td>0</td>\n      <td>2</td>\n      <td>1</td>\n    </tr>\n    <tr>\n      <th>4</th>\n      <td>57</td>\n      <td>0</td>\n      <td>0</td>\n      <td>120</td>\n      <td>354</td>\n      <td>0</td>\n      <td>1</td>\n      <td>163</td>\n      <td>1</td>\n      <td>0.6</td>\n      <td>2</td>\n      <td>0</td>\n      <td>2</td>\n      <td>1</td>\n    </tr>\n    <tr>\n      <th>...</th>\n      <td>...</td>\n      <td>...</td>\n      <td>...</td>\n      <td>...</td>\n      <td>...</td>\n      <td>...</td>\n      <td>...</td>\n      <td>...</td>\n      <td>...</td>\n      <td>...</td>\n      <td>...</td>\n      <td>...</td>\n      <td>...</td>\n      <td>...</td>\n    </tr>\n    <tr>\n      <th>298</th>\n      <td>57</td>\n      <td>0</td>\n      <td>0</td>\n      <td>140</td>\n      <td>241</td>\n      <td>0</td>\n      <td>1</td>\n      <td>123</td>\n      <td>1</td>\n      <td>0.2</td>\n      <td>1</td>\n      <td>0</td>\n      <td>3</td>\n      <td>0</td>\n    </tr>\n    <tr>\n      <th>299</th>\n      <td>45</td>\n      <td>1</td>\n      <td>3</td>\n      <td>110</td>\n      <td>264</td>\n      <td>0</td>\n      <td>1</td>\n      <td>132</td>\n      <td>0</td>\n      <td>1.2</td>\n      <td>1</td>\n      <td>0</td>\n      <td>3</td>\n      <td>0</td>\n    </tr>\n    <tr>\n      <th>300</th>\n      <td>68</td>\n      <td>1</td>\n      <td>0</td>\n      <td>144</td>\n      <td>193</td>\n      <td>1</td>\n      <td>1</td>\n      <td>141</td>\n      <td>0</td>\n      <td>3.4</td>\n      <td>1</td>\n      <td>2</td>\n      <td>3</td>\n      <td>0</td>\n    </tr>\n    <tr>\n      <th>301</th>\n      <td>57</td>\n      <td>1</td>\n      <td>0</td>\n      <td>130</td>\n      <td>131</td>\n      <td>0</td>\n      <td>1</td>\n      <td>115</td>\n      <td>1</td>\n      <td>1.2</td>\n      <td>1</td>\n      <td>1</td>\n      <td>3</td>\n      <td>0</td>\n    </tr>\n    <tr>\n      <th>302</th>\n      <td>57</td>\n      <td>0</td>\n      <td>1</td>\n      <td>130</td>\n      <td>236</td>\n      <td>0</td>\n      <td>0</td>\n      <td>174</td>\n      <td>0</td>\n      <td>0.0</td>\n      <td>1</td>\n      <td>1</td>\n      <td>2</td>\n      <td>0</td>\n    </tr>\n  </tbody>\n</table>\n<p>303 rows × 14 columns</p>\n</div>"
     },
     "metadata": {},
     "execution_count": 3
    }
   ],
   "source": [
    "heart_disease_data"
   ]
  },
  {
   "cell_type": "code",
   "execution_count": 4,
   "metadata": {},
   "outputs": [
    {
     "output_type": "execute_result",
     "data": {
      "text/plain": [
       "     Gender  Height  Weight  Index\n",
       "0      Male     174      96      4\n",
       "1      Male     189      87      2\n",
       "2    Female     185     110      4\n",
       "3    Female     195     104      3\n",
       "4      Male     149      61      3\n",
       "..      ...     ...     ...    ...\n",
       "495  Female     150     153      5\n",
       "496  Female     184     121      4\n",
       "497  Female     141     136      5\n",
       "498    Male     150      95      5\n",
       "499    Male     173     131      5\n",
       "\n",
       "[500 rows x 4 columns]"
      ],
      "text/html": "<div>\n<style scoped>\n    .dataframe tbody tr th:only-of-type {\n        vertical-align: middle;\n    }\n\n    .dataframe tbody tr th {\n        vertical-align: top;\n    }\n\n    .dataframe thead th {\n        text-align: right;\n    }\n</style>\n<table border=\"1\" class=\"dataframe\">\n  <thead>\n    <tr style=\"text-align: right;\">\n      <th></th>\n      <th>Gender</th>\n      <th>Height</th>\n      <th>Weight</th>\n      <th>Index</th>\n    </tr>\n  </thead>\n  <tbody>\n    <tr>\n      <th>0</th>\n      <td>Male</td>\n      <td>174</td>\n      <td>96</td>\n      <td>4</td>\n    </tr>\n    <tr>\n      <th>1</th>\n      <td>Male</td>\n      <td>189</td>\n      <td>87</td>\n      <td>2</td>\n    </tr>\n    <tr>\n      <th>2</th>\n      <td>Female</td>\n      <td>185</td>\n      <td>110</td>\n      <td>4</td>\n    </tr>\n    <tr>\n      <th>3</th>\n      <td>Female</td>\n      <td>195</td>\n      <td>104</td>\n      <td>3</td>\n    </tr>\n    <tr>\n      <th>4</th>\n      <td>Male</td>\n      <td>149</td>\n      <td>61</td>\n      <td>3</td>\n    </tr>\n    <tr>\n      <th>...</th>\n      <td>...</td>\n      <td>...</td>\n      <td>...</td>\n      <td>...</td>\n    </tr>\n    <tr>\n      <th>495</th>\n      <td>Female</td>\n      <td>150</td>\n      <td>153</td>\n      <td>5</td>\n    </tr>\n    <tr>\n      <th>496</th>\n      <td>Female</td>\n      <td>184</td>\n      <td>121</td>\n      <td>4</td>\n    </tr>\n    <tr>\n      <th>497</th>\n      <td>Female</td>\n      <td>141</td>\n      <td>136</td>\n      <td>5</td>\n    </tr>\n    <tr>\n      <th>498</th>\n      <td>Male</td>\n      <td>150</td>\n      <td>95</td>\n      <td>5</td>\n    </tr>\n    <tr>\n      <th>499</th>\n      <td>Male</td>\n      <td>173</td>\n      <td>131</td>\n      <td>5</td>\n    </tr>\n  </tbody>\n</table>\n<p>500 rows × 4 columns</p>\n</div>"
     },
     "metadata": {},
     "execution_count": 4
    }
   ],
   "source": [
    "bmi_data"
   ]
  },
  {
   "cell_type": "code",
   "execution_count": 22,
   "metadata": {},
   "outputs": [],
   "source": [
    "microbiome_project = microbiome_project.dropna()"
   ]
  },
  {
   "cell_type": "code",
   "execution_count": 23,
   "metadata": {},
   "outputs": [
    {
     "output_type": "execute_result",
     "data": {
      "text/plain": [
       "HMP ID                     0\n",
       "GOLD ID                    0\n",
       "Organism Name              0\n",
       "Domain                     0\n",
       "NCBI Superkingdom          0\n",
       "HMP Isolation Body Site    0\n",
       "Project Status             0\n",
       "Current Finishing Level    0\n",
       "NCBI Submission Status     0\n",
       "NCBI Project ID            0\n",
       "Genbank ID                 0\n",
       "Gene Count                 0\n",
       "IMG/HMP ID                 0\n",
       "HOMD ID                    0\n",
       "Sequencing Center          0\n",
       "Funding Source             0\n",
       "Strain Repository ID       0\n",
       "dtype: int64"
      ]
     },
     "metadata": {},
     "execution_count": 23
    }
   ],
   "source": [
    "microbiome_project.isnull().sum()"
   ]
  },
  {
   "cell_type": "code",
   "execution_count": 27,
   "metadata": {},
   "outputs": [
    {
     "output_type": "execute_result",
     "data": {
      "text/plain": [
       "      HMP ID  GOLD ID                                   Organism Name  \\\n",
       "0          1  Gi03551                Abiotrophia defectiva ATCC 49176   \n",
       "2          5  Gi03554                  Achromobacter xylosoxidans C54   \n",
       "3         10  Gi03422              Acinetobacter baumannii ATCC 19606   \n",
       "21        50  Gi01705            Actinomyces odontolyticus ATCC 17982   \n",
       "37        80  Gi03601                    Anaeroglobus geminatus F0357   \n",
       "...      ...      ...                                             ...   \n",
       "2800    9628  Gi06851             Peptostreptococcaceae bacterium CM5   \n",
       "2801    9629  Gi06852          Peptostreptococcaceae bacterium ACC19a   \n",
       "2802    9630  Gi06853             Peptostreptococcaceae bacterium CM2   \n",
       "2803    9682  Gi07010                 Streptococcus intermedius F0395   \n",
       "2858    9942  Gi08347  Fusobacterium nucleatum subsp. animalis OT 420   \n",
       "\n",
       "         Domain NCBI Superkingdom HMP Isolation Body Site Project Status  \\\n",
       "0     BACTERIAL          Bacteria                    oral       Complete   \n",
       "2     BACTERIAL          Bacteria                 airways       Complete   \n",
       "3     BACTERIAL          Bacteria        urogenital_tract       Complete   \n",
       "21    BACTERIAL          Bacteria                    oral       Complete   \n",
       "37    BACTERIAL          Bacteria                    oral       Complete   \n",
       "...         ...               ...                     ...            ...   \n",
       "2800  BACTERIAL          Bacteria                 unknown       Complete   \n",
       "2801  BACTERIAL          Bacteria                 unknown       Complete   \n",
       "2802  BACTERIAL          Bacteria                 unknown       Complete   \n",
       "2803  BACTERIAL          Bacteria                    oral       Complete   \n",
       "2858  BACTERIAL          Bacteria                 unknown       Complete   \n",
       "\n",
       "                   Current Finishing Level  \\\n",
       "0     Level 3: Improved-High-Quality Draft   \n",
       "2         Level 5: Non-contiguous Finished   \n",
       "3              Level 2: High-Quality Draft   \n",
       "21    Level 3: Improved-High-Quality Draft   \n",
       "37             Level 2: High-Quality Draft   \n",
       "...                                    ...   \n",
       "2800           Level 2: High-Quality Draft   \n",
       "2801           Level 2: High-Quality Draft   \n",
       "2802           Level 2: High-Quality Draft   \n",
       "2803           Level 2: High-Quality Draft   \n",
       "2858           Level 2: High-Quality Draft   \n",
       "\n",
       "                                NCBI Submission Status  NCBI Project ID  \\\n",
       "0     6. annotation (and sequence) public on NCBI site            33011   \n",
       "2     6. annotation (and sequence) public on NCBI site            38739   \n",
       "3     6. annotation (and sequence) public on NCBI site            38509   \n",
       "21    6. annotation (and sequence) public on NCBI site            18171   \n",
       "37    6. annotation (and sequence) public on NCBI site            50397   \n",
       "...                                                ...              ...   \n",
       "2800  6. annotation (and sequence) public on NCBI site            49891   \n",
       "2801  6. annotation (and sequence) public on NCBI site            49887   \n",
       "2802  6. annotation (and sequence) public on NCBI site            49889   \n",
       "2803  6. annotation (and sequence) public on NCBI site            49885   \n",
       "2858  6. annotation (and sequence) public on NCBI site            64879   \n",
       "\n",
       "        Genbank ID  Gene Count  IMG/HMP ID        HOMD ID  \\\n",
       "0     ACIN00000000        1950   643886181  HOMD: tax_389   \n",
       "2     ACRC00000000        6010           0  HOMD: tax_343   \n",
       "3     ACQB00000000        3832   647533101  HOMD: tax_554   \n",
       "21    AAYI00000000        2159   640963058  HOMD: tax_701   \n",
       "37    AGCJ00000000        2148  2513237300  HOMD: tax_121   \n",
       "...            ...         ...         ...            ...   \n",
       "2800  AFZG00000000        2325  2513237271  HOMD: tax_105   \n",
       "2801  AFZE00000000        2277  2513237269  HOMD: tax_105   \n",
       "2802  AFZF00000000        1973  2513237356  HOMD: tax_105   \n",
       "2803  AFXN00000000        1904           0  HOMD: tax_644   \n",
       "2858  AGEH00000000        2307           0  HOMD: tax_202   \n",
       "\n",
       "                                   Sequencing Center  \\\n",
       "0     Washington University Genome Sequencing Center   \n",
       "2                                    Broad Institute   \n",
       "3                                    Broad Institute   \n",
       "21    Washington University Genome Sequencing Center   \n",
       "37    Washington University Genome Sequencing Center   \n",
       "...                                              ...   \n",
       "2800                                 Broad Institute   \n",
       "2801                                 Broad Institute   \n",
       "2802                                 Broad Institute   \n",
       "2803                                 Broad Institute   \n",
       "2858                                 Broad Institute   \n",
       "\n",
       "                    Funding Source    Strain Repository ID  \n",
       "0     NIH-HMP Jumpstart Supplement  ATCC 49176, CIP 103242  \n",
       "2     NIH-HMP Jumpstart Supplement              BEI HM-235  \n",
       "3     NIH-HMP Jumpstart Supplement    ATCC 19606, DSM 6974  \n",
       "21                   NIH-HMP NHGRI   DSM 43331, ATCC 17982  \n",
       "37       NIH-HMP Sequencing Center              BEI HM-557  \n",
       "...                            ...                     ...  \n",
       "2800     NIH-HMP Sequencing Center              BEI HM-485  \n",
       "2801     NIH-HMP Sequencing Center              BEI HM-483  \n",
       "2802     NIH-HMP Sequencing Center              BEI HM-484  \n",
       "2803                       NIH-HMP              BEI HM-487  \n",
       "2858     NIH-HMP Sequencing Center              BEI HM-758  \n",
       "\n",
       "[355 rows x 17 columns]"
      ],
      "text/html": "<div>\n<style scoped>\n    .dataframe tbody tr th:only-of-type {\n        vertical-align: middle;\n    }\n\n    .dataframe tbody tr th {\n        vertical-align: top;\n    }\n\n    .dataframe thead th {\n        text-align: right;\n    }\n</style>\n<table border=\"1\" class=\"dataframe\">\n  <thead>\n    <tr style=\"text-align: right;\">\n      <th></th>\n      <th>HMP ID</th>\n      <th>GOLD ID</th>\n      <th>Organism Name</th>\n      <th>Domain</th>\n      <th>NCBI Superkingdom</th>\n      <th>HMP Isolation Body Site</th>\n      <th>Project Status</th>\n      <th>Current Finishing Level</th>\n      <th>NCBI Submission Status</th>\n      <th>NCBI Project ID</th>\n      <th>Genbank ID</th>\n      <th>Gene Count</th>\n      <th>IMG/HMP ID</th>\n      <th>HOMD ID</th>\n      <th>Sequencing Center</th>\n      <th>Funding Source</th>\n      <th>Strain Repository ID</th>\n    </tr>\n  </thead>\n  <tbody>\n    <tr>\n      <th>0</th>\n      <td>1</td>\n      <td>Gi03551</td>\n      <td>Abiotrophia defectiva ATCC 49176</td>\n      <td>BACTERIAL</td>\n      <td>Bacteria</td>\n      <td>oral</td>\n      <td>Complete</td>\n      <td>Level 3: Improved-High-Quality Draft</td>\n      <td>6. annotation (and sequence) public on NCBI site</td>\n      <td>33011</td>\n      <td>ACIN00000000</td>\n      <td>1950</td>\n      <td>643886181</td>\n      <td>HOMD: tax_389</td>\n      <td>Washington University Genome Sequencing Center</td>\n      <td>NIH-HMP Jumpstart Supplement</td>\n      <td>ATCC 49176, CIP 103242</td>\n    </tr>\n    <tr>\n      <th>2</th>\n      <td>5</td>\n      <td>Gi03554</td>\n      <td>Achromobacter xylosoxidans C54</td>\n      <td>BACTERIAL</td>\n      <td>Bacteria</td>\n      <td>airways</td>\n      <td>Complete</td>\n      <td>Level 5: Non-contiguous Finished</td>\n      <td>6. annotation (and sequence) public on NCBI site</td>\n      <td>38739</td>\n      <td>ACRC00000000</td>\n      <td>6010</td>\n      <td>0</td>\n      <td>HOMD: tax_343</td>\n      <td>Broad Institute</td>\n      <td>NIH-HMP Jumpstart Supplement</td>\n      <td>BEI HM-235</td>\n    </tr>\n    <tr>\n      <th>3</th>\n      <td>10</td>\n      <td>Gi03422</td>\n      <td>Acinetobacter baumannii ATCC 19606</td>\n      <td>BACTERIAL</td>\n      <td>Bacteria</td>\n      <td>urogenital_tract</td>\n      <td>Complete</td>\n      <td>Level 2: High-Quality Draft</td>\n      <td>6. annotation (and sequence) public on NCBI site</td>\n      <td>38509</td>\n      <td>ACQB00000000</td>\n      <td>3832</td>\n      <td>647533101</td>\n      <td>HOMD: tax_554</td>\n      <td>Broad Institute</td>\n      <td>NIH-HMP Jumpstart Supplement</td>\n      <td>ATCC 19606, DSM 6974</td>\n    </tr>\n    <tr>\n      <th>21</th>\n      <td>50</td>\n      <td>Gi01705</td>\n      <td>Actinomyces odontolyticus ATCC 17982</td>\n      <td>BACTERIAL</td>\n      <td>Bacteria</td>\n      <td>oral</td>\n      <td>Complete</td>\n      <td>Level 3: Improved-High-Quality Draft</td>\n      <td>6. annotation (and sequence) public on NCBI site</td>\n      <td>18171</td>\n      <td>AAYI00000000</td>\n      <td>2159</td>\n      <td>640963058</td>\n      <td>HOMD: tax_701</td>\n      <td>Washington University Genome Sequencing Center</td>\n      <td>NIH-HMP NHGRI</td>\n      <td>DSM 43331, ATCC 17982</td>\n    </tr>\n    <tr>\n      <th>37</th>\n      <td>80</td>\n      <td>Gi03601</td>\n      <td>Anaeroglobus geminatus F0357</td>\n      <td>BACTERIAL</td>\n      <td>Bacteria</td>\n      <td>oral</td>\n      <td>Complete</td>\n      <td>Level 2: High-Quality Draft</td>\n      <td>6. annotation (and sequence) public on NCBI site</td>\n      <td>50397</td>\n      <td>AGCJ00000000</td>\n      <td>2148</td>\n      <td>2513237300</td>\n      <td>HOMD: tax_121</td>\n      <td>Washington University Genome Sequencing Center</td>\n      <td>NIH-HMP Sequencing Center</td>\n      <td>BEI HM-557</td>\n    </tr>\n    <tr>\n      <th>...</th>\n      <td>...</td>\n      <td>...</td>\n      <td>...</td>\n      <td>...</td>\n      <td>...</td>\n      <td>...</td>\n      <td>...</td>\n      <td>...</td>\n      <td>...</td>\n      <td>...</td>\n      <td>...</td>\n      <td>...</td>\n      <td>...</td>\n      <td>...</td>\n      <td>...</td>\n      <td>...</td>\n      <td>...</td>\n    </tr>\n    <tr>\n      <th>2800</th>\n      <td>9628</td>\n      <td>Gi06851</td>\n      <td>Peptostreptococcaceae bacterium CM5</td>\n      <td>BACTERIAL</td>\n      <td>Bacteria</td>\n      <td>unknown</td>\n      <td>Complete</td>\n      <td>Level 2: High-Quality Draft</td>\n      <td>6. annotation (and sequence) public on NCBI site</td>\n      <td>49891</td>\n      <td>AFZG00000000</td>\n      <td>2325</td>\n      <td>2513237271</td>\n      <td>HOMD: tax_105</td>\n      <td>Broad Institute</td>\n      <td>NIH-HMP Sequencing Center</td>\n      <td>BEI HM-485</td>\n    </tr>\n    <tr>\n      <th>2801</th>\n      <td>9629</td>\n      <td>Gi06852</td>\n      <td>Peptostreptococcaceae bacterium ACC19a</td>\n      <td>BACTERIAL</td>\n      <td>Bacteria</td>\n      <td>unknown</td>\n      <td>Complete</td>\n      <td>Level 2: High-Quality Draft</td>\n      <td>6. annotation (and sequence) public on NCBI site</td>\n      <td>49887</td>\n      <td>AFZE00000000</td>\n      <td>2277</td>\n      <td>2513237269</td>\n      <td>HOMD: tax_105</td>\n      <td>Broad Institute</td>\n      <td>NIH-HMP Sequencing Center</td>\n      <td>BEI HM-483</td>\n    </tr>\n    <tr>\n      <th>2802</th>\n      <td>9630</td>\n      <td>Gi06853</td>\n      <td>Peptostreptococcaceae bacterium CM2</td>\n      <td>BACTERIAL</td>\n      <td>Bacteria</td>\n      <td>unknown</td>\n      <td>Complete</td>\n      <td>Level 2: High-Quality Draft</td>\n      <td>6. annotation (and sequence) public on NCBI site</td>\n      <td>49889</td>\n      <td>AFZF00000000</td>\n      <td>1973</td>\n      <td>2513237356</td>\n      <td>HOMD: tax_105</td>\n      <td>Broad Institute</td>\n      <td>NIH-HMP Sequencing Center</td>\n      <td>BEI HM-484</td>\n    </tr>\n    <tr>\n      <th>2803</th>\n      <td>9682</td>\n      <td>Gi07010</td>\n      <td>Streptococcus intermedius F0395</td>\n      <td>BACTERIAL</td>\n      <td>Bacteria</td>\n      <td>oral</td>\n      <td>Complete</td>\n      <td>Level 2: High-Quality Draft</td>\n      <td>6. annotation (and sequence) public on NCBI site</td>\n      <td>49885</td>\n      <td>AFXN00000000</td>\n      <td>1904</td>\n      <td>0</td>\n      <td>HOMD: tax_644</td>\n      <td>Broad Institute</td>\n      <td>NIH-HMP</td>\n      <td>BEI HM-487</td>\n    </tr>\n    <tr>\n      <th>2858</th>\n      <td>9942</td>\n      <td>Gi08347</td>\n      <td>Fusobacterium nucleatum subsp. animalis OT 420</td>\n      <td>BACTERIAL</td>\n      <td>Bacteria</td>\n      <td>unknown</td>\n      <td>Complete</td>\n      <td>Level 2: High-Quality Draft</td>\n      <td>6. annotation (and sequence) public on NCBI site</td>\n      <td>64879</td>\n      <td>AGEH00000000</td>\n      <td>2307</td>\n      <td>0</td>\n      <td>HOMD: tax_202</td>\n      <td>Broad Institute</td>\n      <td>NIH-HMP Sequencing Center</td>\n      <td>BEI HM-758</td>\n    </tr>\n  </tbody>\n</table>\n<p>355 rows × 17 columns</p>\n</div>"
     },
     "metadata": {},
     "execution_count": 27
    }
   ],
   "source": [
    "microbiome_project"
   ]
  },
  {
   "cell_type": "code",
   "execution_count": null,
   "metadata": {},
   "outputs": [],
   "source": []
  }
 ]
}